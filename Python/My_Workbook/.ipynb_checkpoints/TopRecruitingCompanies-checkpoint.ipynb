{
 "cells": [
  {
   "cell_type": "code",
   "execution_count": 2,
   "metadata": {
    "collapsed": true
   },
   "outputs": [],
   "source": [
    "import pandas as pd"
   ]
  },
  {
   "cell_type": "code",
   "execution_count": 8,
   "metadata": {
    "collapsed": false
   },
   "outputs": [
    {
     "data": {
      "text/plain": [
       "JP Morgan Chase                              56\n",
       "Facebook                                     50\n",
       "Google                                       32\n",
       "Decision Resources Group                     25\n",
       "Wink                                         25\n",
       "Hulu                                         25\n",
       "Nordstrom                                    25\n",
       "JOOR                                         25\n",
       "Tesla Motors                                 25\n",
       "Oracle                                       25\n",
       "IBM                                          25\n",
       "Fareportal Inc.                              25\n",
       "Idelic                                       25\n",
       "Roche                                        25\n",
       "EXPERIAN                                     25\n",
       "Collective[i]                                25\n",
       "Yummly                                       25\n",
       "Clearpool Group                              23\n",
       "Createch                                     23\n",
       "Sumeru Solutions                             22\n",
       "QuantumBlack                                 22\n",
       "T-Mobile                                     21\n",
       "ParaStack                                    21\n",
       "Intel                                        20\n",
       "The University of Pittsburgh                 20\n",
       "Hopper                                       19\n",
       "University of Utah                           19\n",
       "AECOM                                        18\n",
       "AT&T                                         17\n",
       "Enterprise Select                            17\n",
       "Amazon Corporate LLC                         16\n",
       "RDM                                          16\n",
       "American Electric Power                      15\n",
       "Cisco                                        15\n",
       "Voca                                         14\n",
       "Tinder                                       13\n",
       "Wittaff                                      13\n",
       "Blizzard Entertainment                       12\n",
       "Citi                                         12\n",
       "GOAT                                         11\n",
       "Veterans Sourcing Group                      11\n",
       "Adobe                                        10\n",
       "Certilytics                                  10\n",
       "AdTheorent                                   10\n",
       "RangTech                                      9\n",
       "Chevron                                       9\n",
       "WINIGENT                                      8\n",
       "Telus International                           7\n",
       "Professional Search                           7\n",
       "SemanticBits                                  6\n",
       "UC San Diego                                  5\n",
       "NIKE INC                                      5\n",
       "Veear Projects                                4\n",
       "CareMessage                                   3\n",
       "Starbucks                                     3\n",
       "Isaacson Search Company                       2\n",
       "Dstillery                                     2\n",
       "Fractl                                        1\n",
       "Spectrum Communications & Consulting Inc.     1\n",
       "Name: Company, dtype: int64"
      ]
     },
     "execution_count": 8,
     "metadata": {},
     "output_type": "execute_result"
    }
   ],
   "source": [
    "df = pd.read_csv('data+scientist_us.csv')\n",
    "df['Company'].value_counts()"
   ]
  }
 ],
 "metadata": {
  "kernelspec": {
   "display_name": "Python 3",
   "language": "python",
   "name": "python3"
  },
  "language_info": {
   "codemirror_mode": {
    "name": "ipython",
    "version": 3
   },
   "file_extension": ".py",
   "mimetype": "text/x-python",
   "name": "python",
   "nbconvert_exporter": "python",
   "pygments_lexer": "ipython3",
   "version": "3.6.0"
  }
 },
 "nbformat": 4,
 "nbformat_minor": 2
}
