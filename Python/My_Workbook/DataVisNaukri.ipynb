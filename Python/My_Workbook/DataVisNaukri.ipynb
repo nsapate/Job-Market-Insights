{
 "cells": [
  {
   "cell_type": "code",
   "execution_count": 6,
   "metadata": {
    "collapsed": true
   },
   "outputs": [],
   "source": [
    "import pandas as pd"
   ]
  },
  {
   "cell_type": "code",
   "execution_count": 7,
   "metadata": {
    "collapsed": false,
    "scrolled": false
   },
   "outputs": [],
   "source": [
    "data = pd.read_csv('naukriDataScience.txt',sep=';',error_bad_lines=False, names =['Designation','Company','Skill Sets','Location','Experience Required'])"
   ]
  },
  {
   "cell_type": "code",
   "execution_count": 8,
   "metadata": {
    "collapsed": false
   },
   "outputs": [],
   "source": [
    "FreqCompany = pd.value_counts(data['Company'].values)"
   ]
  },
  {
   "cell_type": "code",
   "execution_count": 9,
   "metadata": {
    "collapsed": false,
    "scrolled": false
   },
   "outputs": [
    {
     "data": {
      "text/plain": [
       "DirecTech Labs                                27\n",
       "Microsoft India (R and D) Pvt Ltd             17\n",
       "Larsen & Toubro Infotech Limited              15\n",
       "GE India Industrial Private Limited           11\n",
       "Nokia Solutions and Networks India (P)Ltd.    10\n",
       "Premium-Jobs                                   6\n",
       "Tech Mahindra Ltd.                             6\n",
       "Husys                                          5\n",
       "Crescendo Global Services                      5\n",
       "Premium                                        4\n",
       "JPMorgan Chase                                 4\n",
       "CRISIL LIMITED                                 4\n",
       "CONFIDENTIAL                                   3\n",
       "EXIDE INDUSTRIES LTD                           3\n",
       "gNxt Systems                                   3\n",
       "Confidential                                   3\n",
       "Mindtree Limited                               3\n",
       "Phenom People Pvt Ltd                          3\n",
       "SAP India Pvt.Ltd                              3\n",
       "IBM India Pvt. Limited                         3\n",
       "Syngene  International Limited.                3\n",
       "CitiusTech Healthcare Technology Pvt Ltd.      2\n",
       "Vadilal Industries Ltd.                        2\n",
       "SlicePay - Startup                             2\n",
       "TalPro                                         2\n",
       "Leoforce India Private Limited                 2\n",
       "IndusInd Bank                                  2\n",
       "SDNA                                           2\n",
       "E I DuPont India Private Limited               2\n",
       "MEDGENOME- Startup                             2\n",
       "dtype: int64"
      ]
     },
     "execution_count": 9,
     "metadata": {},
     "output_type": "execute_result"
    }
   ],
   "source": [
    "FreqCompany.head(30)"
   ]
  },
  {
   "cell_type": "code",
   "execution_count": 10,
   "metadata": {
    "collapsed": false
   },
   "outputs": [
    {
     "data": {
      "text/plain": [
       "False"
      ]
     },
     "execution_count": 10,
     "metadata": {},
     "output_type": "execute_result"
    }
   ],
   "source": [
    "'SAP Labs Pvt Ltd' in FreqCompany"
   ]
  }
 ],
 "metadata": {
  "kernelspec": {
   "display_name": "Python 3",
   "language": "python",
   "name": "python3"
  },
  "language_info": {
   "codemirror_mode": {
    "name": "ipython",
    "version": 3
   },
   "file_extension": ".py",
   "mimetype": "text/x-python",
   "name": "python",
   "nbconvert_exporter": "python",
   "pygments_lexer": "ipython3",
   "version": "3.6.0"
  }
 },
 "nbformat": 4,
 "nbformat_minor": 2
}
