{
 "cells": [
  {
   "cell_type": "code",
   "execution_count": 5,
   "metadata": {
    "collapsed": false
   },
   "outputs": [],
   "source": [
    "import pandas as pd"
   ]
  },
  {
   "cell_type": "code",
   "execution_count": 3,
   "metadata": {
    "collapsed": true
   },
   "outputs": [],
   "source": [
    "data = csv.reader(open('data_job_posts.csv','r'))"
   ]
  },
  {
   "cell_type": "code",
   "execution_count": 6,
   "metadata": {
    "collapsed": false
   },
   "outputs": [],
   "source": [
    "survey_df = pd.read_csv('data_job_posts.csv')"
   ]
  },
  {
   "cell_type": "code",
   "execution_count": 38,
   "metadata": {
    "collapsed": true
   },
   "outputs": [
    {
     "data": {
      "text/plain": [
       "0        AMERIA Investment Consulting Company\\r\\nJOB TI...\n",
       "1        International Research & Exchanges Board (IREX...\n",
       "2        Caucasus Environmental NGO Network (CENN)\\r\\nJ...\n",
       "3        Manoff Group\\r\\nJOB TITLE:  BCC Specialist\\r\\n...\n",
       "4        Yerevan Brandy Company\\r\\nJOB TITLE:  Software...\n",
       "5        Boutique \"Appollo\"\\r\\nJOB TITLE:  Saleswoman\\r...\n",
       "6        OSI Assistance Foundation - Armenian Branch Of...\n",
       "7        International Research & Exchanges Board (IREX...\n",
       "8        Yerevan Brandy Company \\r\\nJOB TITLE:  Assista...\n",
       "9        American Embassy Yerevan\\r\\nANNOUNCEMENT NUMBE...\n",
       "10       International Research & Exchanges Board (IREX...\n",
       "11       International Research & Exchanges Board (IREX...\n",
       "12       Institute for Sustainable Communities (ISC)\\r\\...\n",
       "13       Food Security Regional Cooperation and Stabili...\n",
       "14       Teleplus LLC\\r\\nJOB TITLE:  General Manager\\r\\...\n",
       "15       NetCall Communications\\r\\nJOB TITLE:  Network ...\n",
       "16       SOC.Stockholm\\r\\nTITLE:   Utopian World Champi...\n",
       "17       United Nations Development Programme, Armenia\\...\n",
       "18       Counterpart International, Inc.\\r\\nCounterpart...\n",
       "19       Xalt LLC\\r\\nJOB TITLE:  Graphic Designer\\r\\nPO...\n",
       "20       CUTS Centre for International Trade, Economics...\n",
       "21       Yerevan Brandy Company\\r\\nJOB TITLE:  Lawyer\\r...\n",
       "22       ACDI/VOCA\\r\\nJOB TITLE:  Marketing Advisor\\r\\n...\n",
       "23       Armenia TV\\r\\nJOB TITLE:  Chief/ Supervisor of...\n",
       "24       Media Diversity Institute\\r\\nJOB TITLE:  Journ...\n",
       "25       Armenia School Connectivity Program\\r\\nJOB TIT...\n",
       "26       Yerevan State University (YSU) and Civic Educa...\n",
       "27       Media Diversity Institute\\r\\nJOB TITLE:  Repor...\n",
       "28       Media Diversity Institute\\r\\nTITLE:   Reportin...\n",
       "29       SEF International\\r\\nJOB TITLE:  Chief Account...\n",
       "                               ...                        \n",
       "18971    Career Center NGO\\r\\n\\r\\n\\r\\nTITLE:  Reception...\n",
       "18972    Essential Solutions LLC\\r\\n\\r\\n\\r\\nTITLE:  Jav...\n",
       "18973    Essential Solutions LLC\\r\\n\\r\\n\\r\\nTITLE:  Sen...\n",
       "18974    LTX-Credence Armenia LLC\\r\\n\\r\\n\\r\\nTITLE:  CA...\n",
       "18975    LTX-Credence Armenia LLC\\r\\n\\r\\n\\r\\nTITLE:  In...\n",
       "18976    SAS Group LLC\\r\\n\\r\\n\\r\\nTITLE:  Senior Financ...\n",
       "18977    Strategic Development Agency (SDA) NGO\\r\\n\\r\\n...\n",
       "18978    Representation of the \"French Office for Immig...\n",
       "18979    Care Building Services LLC\\r\\n\\r\\n\\r\\nTITLE:  ...\n",
       "18980    LTX-Credence Armenia LLC\\r\\n\\r\\n\\r\\nTITLE:  Ha...\n",
       "18981    BDO Armenia CJSC\\r\\n\\r\\n\\r\\nTITLE:  Auditor\\r\\...\n",
       "18982    BDO Armenia CJSC\\r\\n\\r\\n\\r\\nTITLE:  Senior Aud...\n",
       "18983    Care Building Services LLC\\r\\n\\r\\n\\r\\nTITLE:  ...\n",
       "18984    Care Building Services LLC\\r\\n\\r\\n\\r\\nTITLE:  ...\n",
       "18985    Strategic Development Agency (SDA) NGO\\r\\n\\r\\n...\n",
       "18986    Strategic Development Agency (SDA) NGO\\r\\n\\r\\n...\n",
       "18987    PicsArt LLC\\r\\n\\r\\n\\r\\nTITLE:  Junior Mobile V...\n",
       "18988    Berg Development LLC\\r\\n\\r\\n\\r\\nTITLE:  JavaSc...\n",
       "18989    \"Transport PIU\" State Institution of the RA Mi...\n",
       "18990    NASDAQ OMX Armenia OJSC\\r\\n\\r\\n\\r\\nTITLE:  Jav...\n",
       "18991    NASDAQ OMX Armenia OJSC\\r\\n\\r\\n\\r\\nTITLE:  C/ ...\n",
       "18992    Macadamian AR CJSC\\r\\n\\r\\n\\r\\nTITLE:  .NET Dev...\n",
       "18993    \"Coca-Cola Hellenic Bottling Company Armenia\" ...\n",
       "18994    \"Coca-Cola Hellenic Bottling Company Armenia\" ...\n",
       "18995    \"Transport PIU\" State Institution of the RA Mi...\n",
       "18996    Technolinguistics NGO\\r\\n\\r\\n\\r\\nTITLE:  Senio...\n",
       "18997    \"Coca-Cola Hellenic Bottling Company Armenia\" ...\n",
       "18998    \"Coca-Cola Hellenic Bottling Company Armenia\" ...\n",
       "18999    San Lazzaro   LLC\\r\\n\\r\\n\\r\\nTITLE:  Head of O...\n",
       "19000    \"Kamurj\" UCO CJSC\\r\\n\\r\\n\\r\\nTITLE:  Lawyer in...\n",
       "Name: jobpost, dtype: object"
      ]
     },
     "execution_count": 38,
     "metadata": {},
     "output_type": "execute_result"
    }
   ],
   "source": [
    "it_Jobs = survey_df['jobpost','Title','Company','Location','Salary','Year','Month']\n"
   ]
  },
  {
   "cell_type": "code",
   "execution_count": 53,
   "metadata": {
    "collapsed": true
   },
   "outputs": [],
   "source": [
    "it_Jobs = it_Jobs.ix[:,['jobpost','Title','Company','Location','Salary','Year','Month']]"
   ]
  },
  {
   "cell_type": "code",
   "execution_count": 55,
   "metadata": {
    "collapsed": true
   },
   "outputs": [],
   "source": [
    "it_Jobs.to_csv('IT_Jobs.csv',sep =',')"
   ]
  },
  {
   "cell_type": "code",
   "execution_count": 65,
   "metadata": {
    "collapsed": false
   },
   "outputs": [
    {
     "data": {
      "text/plain": [
       "1538"
      ]
     },
     "execution_count": 65,
     "metadata": {},
     "output_type": "execute_result"
    }
   ],
   "source": [
    "survey_df['IT'].loc[survey_df['Year'] == 2007 ].count()"
   ]
  },
  {
   "cell_type": "code",
   "execution_count": 76,
   "metadata": {
    "collapsed": false
   },
   "outputs": [
    {
     "data": {
      "text/plain": [
       "334"
      ]
     },
     "execution_count": 76,
     "metadata": {},
     "output_type": "execute_result"
    }
   ],
   "source": [
    "survey_df['Title'].loc[(survey_df['IT'] == True)&(survey_df['Year'] == 2008)].count()"
   ]
  }
 ],
 "metadata": {
  "kernelspec": {
   "display_name": "Python 3",
   "language": "python",
   "name": "python3"
  },
  "language_info": {
   "codemirror_mode": {
    "name": "ipython",
    "version": 3
   },
   "file_extension": ".py",
   "mimetype": "text/x-python",
   "name": "python",
   "nbconvert_exporter": "python",
   "pygments_lexer": "ipython3",
   "version": "3.6.0"
  }
 },
 "nbformat": 4,
 "nbformat_minor": 2
}
