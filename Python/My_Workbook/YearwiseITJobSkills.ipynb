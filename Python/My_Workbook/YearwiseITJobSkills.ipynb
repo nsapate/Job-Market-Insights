{
 "cells": [
  {
   "cell_type": "code",
   "execution_count": 8,
   "metadata": {
    "collapsed": true
   },
   "outputs": [],
   "source": [
    "import pandas as pd\n",
    "import csv"
   ]
  },
  {
   "cell_type": "code",
   "execution_count": 9,
   "metadata": {
    "collapsed": true
   },
   "outputs": [],
   "source": [
    "raw_data = pd.read_csv('IT_Jobs.csv')"
   ]
  },
  {
   "cell_type": "code",
   "execution_count": 10,
   "metadata": {
    "collapsed": false
   },
   "outputs": [],
   "source": [
    "allYears = raw_data.Year.unique()"
   ]
  },
  {
   "cell_type": "code",
   "execution_count": 11,
   "metadata": {
    "collapsed": false,
    "scrolled": false
   },
   "outputs": [],
   "source": [
    "title_data = raw_data['Title'].loc[raw_data['Year'] == 2004]"
   ]
  },
  {
   "cell_type": "code",
   "execution_count": 12,
   "metadata": {
    "collapsed": true
   },
   "outputs": [],
   "source": [
    "#title_data.apply(lambda x: x.count('Java'))\n",
    "title_data = title_data.str.lower()\n",
    "title_data = title_data.str.contains('java').sum()"
   ]
  },
  {
   "cell_type": "code",
   "execution_count": 13,
   "metadata": {
    "collapsed": false
   },
   "outputs": [],
   "source": [
    "def contains_Skills(skill):\n",
    "    return 1 if skill in data else 0"
   ]
  },
  {
   "cell_type": "code",
   "execution_count": 14,
   "metadata": {
    "collapsed": false
   },
   "outputs": [
    {
     "data": {
      "text/plain": [
       "[[2004, 20, 2, 9, 4, 2, 1, 5, 1, 0, 0, 0, 2, 0, 3, 0],\n",
       " [2005, 19, 9, 17, 15, 6, 1, 15, 0, 0, 1, 0, 4, 0, 2, 0],\n",
       " [2006, 14, 4, 14, 14, 8, 1, 15, 1, 0, 0, 0, 7, 0, 8, 0],\n",
       " [2007, 47, 6, 17, 23, 11, 0, 38, 0, 2, 0, 0, 9, 0, 8, 0],\n",
       " [2008, 44, 18, 23, 37, 18, 2, 39, 0, 10, 0, 0, 14, 0, 10, 0],\n",
       " [2009, 13, 11, 6, 2, 4, 0, 9, 0, 1, 0, 0, 9, 0, 6, 0],\n",
       " [2010, 17, 5, 23, 17, 5, 2, 14, 1, 1, 0, 0, 7, 0, 4, 1],\n",
       " [2011, 26, 21, 18, 8, 4, 0, 17, 0, 3, 0, 0, 9, 1, 5, 6],\n",
       " [2012, 39, 23, 30, 15, 27, 1, 54, 3, 0, 0, 2, 6, 3, 5, 8],\n",
       " [2013, 20, 32, 11, 12, 16, 0, 30, 2, 1, 0, 3, 4, 11, 13, 11],\n",
       " [2014, 36, 29, 18, 14, 10, 0, 46, 5, 1, 0, 3, 10, 21, 15, 10],\n",
       " [2015, 57, 30, 7, 1, 7, 1, 45, 5, 0, 1, 4, 0, 33, 15, 34]]"
      ]
     },
     "execution_count": 14,
     "metadata": {},
     "output_type": "execute_result"
    }
   ],
   "source": [
    "skillsOverYears = []\n",
    "for eachYear in allYears:\n",
    "    dataToAppend = []\n",
    "    java_count = php_count = cplus_count = csharp_count = asp_count = vb_count = dotnet_count = 0\n",
    "    javascript_count = mysql_count = database_count = python_count = ruby_count = quality_count = support_count = iOS_count = android_count = 0\n",
    "    title_data = raw_data['Title'].loc[raw_data['Year'] == eachYear]\n",
    "    for data in title_data.str.lower():\n",
    "        java_count += 1 if ('java' or 'j2ee') in data else 0\n",
    "        php_count += contains_Skills('php')\n",
    "        cplus_count += contains_Skills('c++')\n",
    "        csharp_count += contains_Skills('c#')\n",
    "        asp_count += contains_Skills('asp')\n",
    "        vb_count += contains_Skills('vb')\n",
    "        dotnet_count += contains_Skills('.net')\n",
    "        javascript_count += contains_Skills('javascript')\n",
    "        mysql_count += contains_Skills('mysql')\n",
    "        python_count += contains_Skills('python')\n",
    "        ruby_count += contains_Skills('ruby')\n",
    "        quality_count += contains_Skills('quality')\n",
    "        support_count += contains_Skills('support')\n",
    "        iOS_count += contains_Skills('ios')\n",
    "        android_count += contains_Skills('android')\n",
    "    dataToAppend.extend([eachYear, java_count, php_count, cplus_count, csharp_count, asp_count, vb_count, dotnet_count, javascript_count, mysql_count, python_count, ruby_count, quality_count, iOS_count, support_count, android_count])\n",
    "    skillsOverYears.append(dataToAppend)\n",
    "skillsOverYears"
   ]
  },
  {
   "cell_type": "code",
   "execution_count": 15,
   "metadata": {
    "collapsed": false
   },
   "outputs": [
    {
     "name": "stdout",
     "output_type": "stream",
     "text": [
      "Writing to csv file\n"
     ]
    }
   ],
   "source": [
    "csv_header = ['Year','Java','PHP','C++','C#','ASP','VB','.NET','JavaScript','SQL','Python','Ruby','Quality','iOS','Support','Android']\n",
    "print('Writing to csv file')\n",
    "with open('ITSkillsTrend.csv', 'w', encoding='utf-8', newline='') as csv_file:\n",
    "    writer = csv.writer(csv_file)\n",
    "    writer.writerow(csv_header)\n",
    "    writer.writerows(skillsOverYears)"
   ]
  }
 ],
 "metadata": {
  "kernelspec": {
   "display_name": "Python 3",
   "language": "python",
   "name": "python3"
  },
  "language_info": {
   "codemirror_mode": {
    "name": "ipython",
    "version": 3
   },
   "file_extension": ".py",
   "mimetype": "text/x-python",
   "name": "python",
   "nbconvert_exporter": "python",
   "pygments_lexer": "ipython3",
   "version": "3.6.0"
  }
 },
 "nbformat": 4,
 "nbformat_minor": 2
}
