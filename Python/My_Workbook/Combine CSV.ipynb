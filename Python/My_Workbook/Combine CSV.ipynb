{
 "cells": [
  {
   "cell_type": "code",
   "execution_count": 43,
   "metadata": {
    "collapsed": true
   },
   "outputs": [],
   "source": [
    "import csv\n",
    "from collections import OrderedDict"
   ]
  },
  {
   "cell_type": "code",
   "execution_count": 74,
   "metadata": {
    "collapsed": true
   },
   "outputs": [],
   "source": [
    "reader1 = csv.reader(open('output.csv','r'))\n",
    "titles1 = next(reader1)  # First row is titles. So we parse it separetly\n",
    "dict1 = {row[0]: row[1:] for row in reader1}\n",
    "\n",
    "reader2 = csv.reader(open('Skills_data+scientist_SF.csv','r'))\n",
    "titles2 = next(reader2)\n",
    "dict2 = {}  # If we skipt this and do nto change behaviour in cilce we\n",
    "            # will get only last row every time\n",
    "for row in reader2:\n",
    "    dict2[row[0]] = row[1:]\n",
    "\n",
    "keys = set(dict1.keys()) | set(dict2.keys())\n",
    "with open('output.csv', 'w', newline='') as f:  # For CVS it's beeter to use\n",
    "                                                # text mode, not binary.\n",
    "    w = csv.writer(f, delimiter=',')\n",
    "\n",
    "    w.writerow(titles1 + titles2)\n",
    "    for key in keys:\n",
    "        w.writerow([key, ] +\n",
    "                dict1.get(key, [''] * (len(titles1)-1)) +\n",
    "                dict2.get(key, [''] * (len(titles2)-1))\n",
    "                )"
   ]
  },
  {
   "cell_type": "code",
   "execution_count": 75,
   "metadata": {
    "collapsed": false
   },
   "outputs": [
    {
     "ename": "AttributeError",
     "evalue": "'_csv.reader' object has no attribute 'close'",
     "output_type": "error",
     "traceback": [
      "\u001b[0;31m---------------------------------------------------------------------------\u001b[0m",
      "\u001b[0;31mAttributeError\u001b[0m                            Traceback (most recent call last)",
      "\u001b[0;32m<ipython-input-75-55a2a2142688>\u001b[0m in \u001b[0;36m<module>\u001b[0;34m()\u001b[0m\n\u001b[0;32m----> 1\u001b[0;31m \u001b[0mreader1\u001b[0m\u001b[1;33m.\u001b[0m\u001b[0mclose\u001b[0m\u001b[1;33m(\u001b[0m\u001b[1;33m)\u001b[0m\u001b[1;33m\u001b[0m\u001b[0m\n\u001b[0m",
      "\u001b[0;31mAttributeError\u001b[0m: '_csv.reader' object has no attribute 'close'"
     ]
    }
   ],
   "source": [
    "reader1.close()"
   ]
  }
 ],
 "metadata": {
  "kernelspec": {
   "display_name": "Python 3",
   "language": "python",
   "name": "python3"
  },
  "language_info": {
   "codemirror_mode": {
    "name": "ipython",
    "version": 3
   },
   "file_extension": ".py",
   "mimetype": "text/x-python",
   "name": "python",
   "nbconvert_exporter": "python",
   "pygments_lexer": "ipython3",
   "version": "3.6.0"
  }
 },
 "nbformat": 4,
 "nbformat_minor": 2
}
